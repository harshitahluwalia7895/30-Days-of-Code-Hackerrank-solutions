{
 "cells": [
  {
   "cell_type": "markdown",
   "metadata": {},
   "source": [
    "# Python – The new generation Language\n",
    " \n",
    "\n",
    "Python designed by Guido van Rossum at CWI has become a widely used general-purpose, high-level programming language.\n",
    "\n",
    "## Prerequisites:\n",
    "\n",
    "* Knowledge of any programming language can be a plus.\n",
    "\n",
    "**Reason for increasing popularity**\n",
    "* Emphasis on code readability, **shorter codes**, ease of writing\n",
    "* Programmers can express logical concepts in fewer lines of code in comparison to languages such as C++ or Java.\n",
    "* Python supports **multiple** programming paradigms, like object-oriented, imperative and functional programming or procedural.\n",
    "* There exists inbuilt functions for almost all of the frequently used concepts.\n",
    "* Philosophy is “Simplicity is the best”.\n",
    "\n",
    "## LANGUAGE FEATURES\n",
    "  **1.Interpreted**\n",
    "* There are no separate compilation and execution steps like C and C++.\n",
    "* Directly runthe program from the source code.\n",
    "* Internally, Python converts the source code into an intermediate form called bytecodes which is then translated into native language of specific computer to run it.\n",
    "* No need to worry about linking and loading with libraries, etc.\n",
    "<br><br>\n",
    "**2.Platform Independent**\n",
    "<br><br>\n",
    "* Python programs can be developed and executed on multiple operating system platforms.\n",
    "* Python can be used on Linux, Windows, Macintosh, Solaris and many more.\n",
    "* Free and Open Source; Redistributable<br>\n",
    "<br>**3.High-level Language**<br><br>\n",
    "* In Python, no need to take care about low-level details such as managing the memory used by the program.\n",
    "<br><br>**4.Simple**<br><br>\n",
    "* Closer to English language;Easy to Learn\n",
    "* More emphasis on the solution to the problem rather than the syntax\n",
    "<br><br>**5.Embeddable**<br><br>\n",
    "* Python can be used within C/C++ program to give scripting capabilities for the program’s users.\n",
    "<br><br>**6.Robust:**<br><br>\n",
    "* Exceptional handling features\n",
    "* Memory management techniques in built\n",
    "<br><br>**7.Rich Library Support**<br><br>\n",
    "* The Python Standard Library is vary vast.\n",
    "* Known as the “batteries included” philosophy of Python ;It can help do various things involving regular expressions, documentation generation, unit testing, threading, databases, web browsers, CGI, email, XML, HTML, WAV files, cryptography, GUI and many more.\n",
    "* Besides the standard library, there are various other high-quality libraries such as the Python Imaging Library which is an amazingly simple image manipulation library."
   ]
  },
  {
   "cell_type": "markdown",
   "metadata": {},
   "source": [
    "# Day 1 : Strings"
   ]
  },
  {
   "cell_type": "code",
   "execution_count": 1,
   "metadata": {},
   "outputs": [
    {
     "data": {
      "text/plain": [
       "\"Hello World It's Harshit Ahluwalia\""
      ]
     },
     "execution_count": 1,
     "metadata": {},
     "output_type": "execute_result"
    }
   ],
   "source": [
    "\"Hello World It's Harshit Ahluwalia\""
   ]
  },
  {
   "cell_type": "code",
   "execution_count": 3,
   "metadata": {},
   "outputs": [
    {
     "data": {
      "text/plain": [
       "'Hi everyone today is the Day-1 of 30 Days of Python Code'"
      ]
     },
     "execution_count": 3,
     "metadata": {},
     "output_type": "execute_result"
    }
   ],
   "source": [
    "#combine strings also\n",
    "\"Hi everyone\"+\" today is the Day-1 of 30 Days of Python Code\""
   ]
  },
  {
   "cell_type": "markdown",
   "metadata": {},
   "source": [
    "### Strings are immutable"
   ]
  },
  {
   "cell_type": "code",
   "execution_count": 5,
   "metadata": {},
   "outputs": [
    {
     "ename": "TypeError",
     "evalue": "'str' object does not support item assignment",
     "output_type": "error",
     "traceback": [
      "\u001b[1;31m---------------------------------------------------------------------------\u001b[0m",
      "\u001b[1;31mTypeError\u001b[0m                                 Traceback (most recent call last)",
      "\u001b[1;32m<ipython-input-5-b9f25feeb3b0>\u001b[0m in \u001b[0;36m<module>\u001b[1;34m()\u001b[0m\n\u001b[0;32m      1\u001b[0m \u001b[0mA\u001b[0m \u001b[1;33m=\u001b[0m \u001b[1;34m'Harshit'\u001b[0m\u001b[1;33m\u001b[0m\u001b[0m\n\u001b[1;32m----> 2\u001b[1;33m \u001b[0mA\u001b[0m\u001b[1;33m[\u001b[0m\u001b[1;36m2\u001b[0m\u001b[1;33m]\u001b[0m\u001b[1;33m=\u001b[0m\u001b[1;34m'A'\u001b[0m  \u001b[1;31m# shows error because String are immutable i.e. Once a srtring is defined they cannot be changed.\u001b[0m\u001b[1;33m\u001b[0m\u001b[0m\n\u001b[0m\u001b[0;32m      3\u001b[0m \u001b[0mprint\u001b[0m\u001b[1;33m(\u001b[0m\u001b[0mA\u001b[0m\u001b[1;33m)\u001b[0m\u001b[1;33m\u001b[0m\u001b[0m\n",
      "\u001b[1;31mTypeError\u001b[0m: 'str' object does not support item assignment"
     ]
    }
   ],
   "source": [
    "A = 'Harshit'\n",
    "A[2]='A'  # shows error because String are immutable i.e. Once a srtring is defined they cannot be changed.\n",
    "print(A) "
   ]
  },
  {
   "cell_type": "code",
   "execution_count": 7,
   "metadata": {},
   "outputs": [
    {
     "name": "stdout",
     "output_type": "stream",
     "text": [
      "Harshit Ahluwalia\n"
     ]
    }
   ],
   "source": [
    "#This code will works fine\n",
    "A = 'Harshit'\n",
    "A = A + \" Ahluwalia\" # This shows that a string can be appended to  a string also\n",
    "print(A)"
   ]
  },
  {
   "cell_type": "markdown",
   "metadata": {},
   "source": [
    "#### In the above code interpreter makes a copy of the original string and then work on it and modifies it. So the expression A = A +\" Ahluwalia\" doesn’t change string but reassigns the variable a to the new string generated by the result and drops down the previous string."
   ]
  },
  {
   "cell_type": "markdown",
   "metadata": {},
   "source": [
    "## Three ways to create strings:\n",
    "Strings in python can be created using single quotes or double quotes or a triple quotes ."
   ]
  },
  {
   "cell_type": "code",
   "execution_count": 11,
   "metadata": {},
   "outputs": [
    {
     "name": "stdout",
     "output_type": "stream",
     "text": [
      "Harshit Ahluwalia  \n",
      "Student \n",
      "from \n",
      "Uttaranchal University\n",
      "pursuing Btech 2016-2020\n",
      "\n"
     ]
    }
   ],
   "source": [
    "# Python program to create strings in a three ways\n",
    "a = 'Harshit' #way 1\n",
    "b = \"Ahluwalia\" #way 2\n",
    "c =''' \n",
    "Student \n",
    "from \n",
    "Uttaranchal University\n",
    "pursuing Btech 2016-2020\n",
    "''' #way 3\n",
    "print(a,b,c)"
   ]
  },
  {
   "cell_type": "markdown",
   "metadata": {},
   "source": [
    "## How to print single quote or double quote on screen?\n",
    "We can do that in the following two ways:\n",
    "<br>\n",
    "* First one is to use escape character to display the additional quote.<br>\n",
    "* The second way is by using mix quote, i.e., when we want to print single quote then using double quotes as delimiters and vice-versa."
   ]
  },
  {
   "cell_type": "code",
   "execution_count": 14,
   "metadata": {},
   "outputs": [
    {
     "name": "stdout",
     "output_type": "stream",
     "text": [
      "Hi everyone\n",
      "He said, \"Welcome to 30-Days-of-Python-Code\"\n",
      "Hey so happy to be here\n",
      "oh yeah, \"Loving it\"\n"
     ]
    }
   ],
   "source": [
    "print(\"Hi everyone\")\n",
    "  \n",
    "# use of escape sequence \n",
    "print(\"He said, \\\"Welcome to 30-Days-of-Python-Code\\\"\")     \n",
    "  \n",
    "print('Hey so happy to be here')\n",
    "  \n",
    "# use of mix quotes \n",
    "print('oh yeah, \"Loving it\"')    "
   ]
  },
  {
   "cell_type": "markdown",
   "metadata": {},
   "source": [
    "# SET -1 : Slicing in Strings"
   ]
  },
  {
   "cell_type": "markdown",
   "metadata": {},
   "source": [
    "### we can obtain the required character using syntax, \n",
    "<code>string_name[index_position]:</code><br>\n",
    "The positive index_position denotes the element from the starting(0) and the negative index shows the index from the end(-1)."
   ]
  },
  {
   "cell_type": "code",
   "execution_count": 17,
   "metadata": {},
   "outputs": [
    {
     "name": "stdout",
     "output_type": "stream",
     "text": [
      "r\n",
      "t\n",
      "l\n"
     ]
    },
    {
     "ename": "IndexError",
     "evalue": "string index out of range",
     "output_type": "error",
     "traceback": [
      "\u001b[1;31m---------------------------------------------------------------------------\u001b[0m",
      "\u001b[1;31mIndexError\u001b[0m                                Traceback (most recent call last)",
      "\u001b[1;32m<ipython-input-17-847301e28196>\u001b[0m in \u001b[0;36m<module>\u001b[1;34m()\u001b[0m\n\u001b[0;32m     14\u001b[0m \u001b[1;33m\u001b[0m\u001b[0m\n\u001b[0;32m     15\u001b[0m \u001b[1;31m# Length of string is 10 so it is out of bound\u001b[0m\u001b[1;33m\u001b[0m\u001b[1;33m\u001b[0m\u001b[0m\n\u001b[1;32m---> 16\u001b[1;33m \u001b[0mprint\u001b[0m\u001b[1;33m(\u001b[0m\u001b[0mx\u001b[0m\u001b[1;33m[\u001b[0m\u001b[1;36m18\u001b[0m\u001b[1;33m]\u001b[0m\u001b[1;33m)\u001b[0m\u001b[1;33m\u001b[0m\u001b[0m\n\u001b[0m",
      "\u001b[1;31mIndexError\u001b[0m: string index out of range"
     ]
    }
   ],
   "source": [
    "\n",
    "# A python program to illustrate slicing in strings \n",
    "  \n",
    "x = \"Harshit Ahluwalia\"\n",
    "  \n",
    "# Prints 3rd character beginning from 0 \n",
    "print(x[2])   \n",
    "  \n",
    "# Prints 7th character \n",
    "print(x[6])   \n",
    "  \n",
    "# Prints 3rd character from rear beginning from -1 \n",
    "print(x[-3])  \n",
    "  \n",
    "# Length of string is 10 so it is out of bound \n",
    "print(x[18])  "
   ]
  },
  {
   "cell_type": "markdown",
   "metadata": {},
   "source": [
    "##  To extract substring from the whole string then then we use the syntax like\n",
    "<code>string_name[beginning: end : step]</code>\n",
    "* beginning represents the starting index of string\n",
    "* end denotes the end index of string which is not inclusive \n",
    "* steps denotes the distance between the two words.<br>\n",
    "**Note: We can also slice the string using beginning and only and steps are optional.**"
   ]
  },
  {
   "cell_type": "code",
   "execution_count": 3,
   "metadata": {},
   "outputs": [
    {
     "name": "stdout",
     "output_type": "stream",
     "text": [
      "lco\n",
      "oet\n",
      "-C\n"
     ]
    }
   ],
   "source": [
    "\n",
    "# A python program to illustrate \n",
    "# print substrings of a string \n",
    "x = \"Welcome to 30-Days-of-Python-Code\"\n",
    "  \n",
    "# Prints substring from 2nd to 5th character \n",
    "print(x[2:5])       \n",
    "  \n",
    "# Prints substring stepping up 2nd character  \n",
    "# from 4th to 10th character \n",
    "print(x[4:10:2])     \n",
    "  \n",
    "# Prints 3rd character from rear from 3 to 5 \n",
    "print(x[-5:-3])"
   ]
  },
  {
   "cell_type": "markdown",
   "metadata": {},
   "source": [
    "# SET-2 : Strings methods"
   ]
  },
  {
   "cell_type": "markdown",
   "metadata": {},
   "source": [
    "Set 1 (find, rfind, startwith, endwith, islower, isupper, lower, upper, swapcase & title)"
   ]
  },
  {
   "cell_type": "markdown",
   "metadata": {},
   "source": [
    "<code>1. find(“string”, beg, end) </code>:- This function is used to find the position of the substring within a string.It takes 3 arguments, substring , starting index( by default 0) and ending index( by default string length).\n",
    "\n",
    "It returns “-1 ” if string is not found in given range.\n",
    "It returns first occurrence of string if found.<br><br>\n",
    "<code>2. rfind(“string”, beg, end) </code>:- This function has the similar working as find(), but it returns the position of the last occurrence of string."
   ]
  },
  {
   "cell_type": "code",
   "execution_count": 6,
   "metadata": {},
   "outputs": [
    {
     "name": "stdout",
     "output_type": "stream",
     "text": [
      "Enter First string:Harshit Ahluwalia is a Harshit Ahluwalia\n",
      "Enter the Substring you want to find:Ahluwalia\n",
      "The first occurence of the string 2 is at: 8\n",
      "The last pccurence of the String 2 is at :31\n"
     ]
    }
   ],
   "source": [
    "#working of find and rfind\n",
    "str1,str2 = input('Enter First string:'),input('Enter the Substring you want to find:')\n",
    "\n",
    "#using find() to find first occurrence of str2 \n",
    "print('The first occurence of the string 2 is at: ',end=\"\")\n",
    "print(str1.find(str2))\n",
    "\n",
    "#using rfind() to find the last occurence of the string\n",
    "print('The last occurence of the String 2 is at :',end=\"\")\n",
    "print(str1.rfind(str2))"
   ]
  },
  {
   "cell_type": "markdown",
   "metadata": {},
   "source": [
    "<code>3. startswith(“string”, beg, end) </code>:- The purpose of this function is to return true if the function begins with mentioned string(prefix) else return false.\n",
    "<br><br>\n",
    "\n",
    "<code>4. endswith(“string”, beg, end)</code> :- The purpose of this function is to return true if the function ends with mentioned string(suffix) else return false."
   ]
  },
  {
   "cell_type": "code",
   "execution_count": 14,
   "metadata": {},
   "outputs": [
    {
     "name": "stdout",
     "output_type": "stream",
     "text": [
      "Enter First string:harshitahluwalia\n",
      "Enter the Substring you want to find:harshitahluwalia\n",
      "Both String begins with same staring Word i.e. harshitahluwalia\n",
      "Both String ends with same Word i.e. harshitahluwalia\n"
     ]
    }
   ],
   "source": [
    "#Working of startswith and ends with\n",
    "str1 = input('Enter First string:')\n",
    "str2 = input('Enter the Substring you want to find:')\n",
    "#using startswith()\n",
    "if str1.startswith(str2):\n",
    "    print('Both String begins with same staring Word i.e. '+str2)\n",
    "else:\n",
    "    print('Both the string contains different starting word !')\n",
    "#using endswith()\n",
    "if str1.endswith(str2):\n",
    "    print('Both String ends with same Word i.e. '+str2)\n",
    "else:\n",
    "    print('Both the string contains different End word !')\n",
    "    "
   ]
  },
  {
   "cell_type": "markdown",
   "metadata": {},
   "source": [
    "5. <code>islower(“string”)</code> :- This function returns true if all the letters in the string are lower cased, otherwise false.\n",
    "<br><br>\n",
    "6. <code>isupper(“string”)</code> :- This function returns true if all the letters in the string are upper cased, otherwise false."
   ]
  },
  {
   "cell_type": "code",
   "execution_count": 17,
   "metadata": {},
   "outputs": [
    {
     "name": "stdout",
     "output_type": "stream",
     "text": [
      "All characters in str are upper cased\n",
      "All characters in str1 are lower cased\n"
     ]
    }
   ],
   "source": [
    "str = \"HARSHITAHLUWALIA\"\n",
    "str1 = \"harshitahluwalia\"\n",
    "# checking if all characters in str are upper cased \n",
    "if str.isupper() : \n",
    "       print (\"All characters in str are upper cased\") \n",
    "else : print (\"All characters in str are not upper cased\") \n",
    "# checking if all characters in str1 are lower cased \n",
    "if str1.islower() : \n",
    "       print (\"All characters in str1 are lower cased\") \n",
    "else : print (\"All characters in str1 are not lower cased\") "
   ]
  },
  {
   "cell_type": "markdown",
   "metadata": {},
   "source": [
    "7.<code> lower() </code>:- This function returns the new string with all the letters converted into its lower case.\n",
    "<br><br>\n",
    "8.<code> upper() </code>:- This function returns the new string with all the letters converted into its upper case.\n",
    "<br><br>\n",
    "9.<code>swapcase() </code>:- This function is used to swap the cases of string i.e upper case is converted to lower case and vice versa.\n",
    "<br><br>\n",
    "10.<code>title()</code> :- This function converts the string to its title case i.e the first letter of every word of string is upper cased and else all are lower cased."
   ]
  },
  {
   "cell_type": "code",
   "execution_count": 18,
   "metadata": {},
   "outputs": [
    {
     "name": "stdout",
     "output_type": "stream",
     "text": [
      " The lower case converted string is : harshit ahluwalia is a machine learning enthusiast\n",
      " The upper case converted string is : HARSHIT AHLUWALIA IS A MACHINE LEARNING ENTHUSIAST\n",
      " The swap case converted string is : hARSHIT aHLUWALIA IS A mACHINE lEARNING eNTHUSIAST\n",
      " The title case converted string is : Harshit Ahluwalia Is A Machine Learning Enthusiast\n"
     ]
    }
   ],
   "source": [
    "str = \"Harshit Ahluwalia is a Machine Learning Enthusiast\"\n",
    "  \n",
    "# Coverting string into its lower case \n",
    "str1 = str.lower(); \n",
    "print (\" The lower case converted string is : \" + str1) \n",
    "  \n",
    "# Coverting string into its upper case \n",
    "str2 = str.upper(); \n",
    "print (\" The upper case converted string is : \" + str2) \n",
    "  \n",
    "# Coverting string into its swapped case \n",
    "str3 = str.swapcase(); \n",
    "print (\" The swap case converted string is : \" + str3) \n",
    "  \n",
    "# Coverting string into its title case \n",
    "str4 = str.title(); \n",
    "print (\" The title case converted string is : \" + str4) "
   ]
  },
  {
   "cell_type": "markdown",
   "metadata": {},
   "source": [
    "# SET - 3 : String methods"
   ]
  },
  {
   "cell_type": "markdown",
   "metadata": {},
   "source": [
    "1.<code>strip()</code> :- This method is used to delete all the leading and trailing characters mentioned in its argument.\n",
    "<br><br>\n",
    "2.<code> lstrip()</code> :- This method is used to delete all the leading characters mentioned in its argument.\n",
    "<br><br>\n",
    "3.<code> rstrip()</code> :- This method is used to delete all the trailing characters mentioned in its argument."
   ]
  },
  {
   "cell_type": "code",
   "execution_count": 24,
   "metadata": {},
   "outputs": [
    {
     "name": "stdout",
     "output_type": "stream",
     "text": [
      "String after stripping '-' is : Harshit Ahluwalia\n",
      "String after stripping '-' is : Harshit Ahluwalia----\n",
      "String after stripping '-' is : ----Harshit Ahluwalia\n"
     ]
    }
   ],
   "source": [
    "str = '----Harshit Ahluwalia----'\n",
    "\n",
    "#using strip()\n",
    "print(\"String after stripping '-' is : \",end=\"\")\n",
    "print(str.strip('-'))\n",
    "\n",
    "#using lstrip()\n",
    "print(\"String after stripping '-' is : \",end=\"\")\n",
    "print(str.lstrip('-'))\n",
    "\n",
    "#using rstrip()\n",
    "print(\"String after stripping '-' is : \",end=\"\")\n",
    "print(str.rstrip('-'))"
   ]
  },
  {
   "cell_type": "markdown",
   "metadata": {},
   "source": [
    "4.<code> min(“string”)</code> :- This function returns the minimum value alphabet from string.\n",
    "<br><br>\n",
    "5.<code> max(“string”)</code> :- This function returns the maximum value alphabet from string."
   ]
  },
  {
   "cell_type": "code",
   "execution_count": 25,
   "metadata": {},
   "outputs": [
    {
     "name": "stdout",
     "output_type": "stream",
     "text": [
      "The minimum value charactar is  \n",
      "The maximum value charactar is w\n"
     ]
    }
   ],
   "source": [
    "print('The minimum value charactar is '+min(str))\n",
    "print('The maximum value charactar is '+max(str))"
   ]
  },
  {
   "cell_type": "markdown",
   "metadata": {},
   "source": [
    "6.<code> maketrans()</code> :- It is used to map the contents of string 1 with string 2 with respective indices to be translated later using translate().\n",
    "\n",
    "7.<code> translate()</code> :- This is used to swap the string elements mapped with the help of maketrans()."
   ]
  },
  {
   "cell_type": "code",
   "execution_count": null,
   "metadata": {},
   "outputs": [],
   "source": []
  }
 ],
 "metadata": {
  "kernelspec": {
   "display_name": "Python 3",
   "language": "python",
   "name": "python3"
  },
  "language_info": {
   "codemirror_mode": {
    "name": "ipython",
    "version": 3
   },
   "file_extension": ".py",
   "mimetype": "text/x-python",
   "name": "python",
   "nbconvert_exporter": "python",
   "pygments_lexer": "ipython3",
   "version": "3.6.5"
  }
 },
 "nbformat": 4,
 "nbformat_minor": 2
}
